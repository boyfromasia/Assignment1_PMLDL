{
 "cells": [
  {
   "cell_type": "code",
   "execution_count": 1,
   "id": "initial_id",
   "metadata": {
    "collapsed": true,
    "ExecuteTime": {
     "end_time": "2023-10-27T02:25:23.376597600Z",
     "start_time": "2023-10-27T02:25:21.639699300Z"
    }
   },
   "outputs": [],
   "source": [
    "from transformers import AutoModelForSeq2SeqLM, AutoTokenizer\n",
    "from torch import cuda\n",
    "\n",
    "import warnings\n",
    "warnings.filterwarnings('ignore')\n",
    "\n",
    "device = 'cuda' if cuda.is_available() else 'cpu'\n",
    "SAVE_PATH = \"../models/t5-detoxification/checkpoint-final/\"\n",
    "model_checkpoint = \"t5-small\""
   ]
  },
  {
   "cell_type": "markdown",
   "source": [
    "# Download model from checkpoint"
   ],
   "metadata": {
    "collapsed": false
   },
   "id": "d8546282b90f64d7"
  },
  {
   "cell_type": "code",
   "execution_count": 2,
   "outputs": [],
   "source": [
    "model = AutoModelForSeq2SeqLM.from_pretrained(SAVE_PATH).to(device)\n",
    "model.eval()\n",
    "model.config.use_cache = False\n",
    "tokenizer = AutoTokenizer.from_pretrained(model_checkpoint)"
   ],
   "metadata": {
    "collapsed": false,
    "ExecuteTime": {
     "end_time": "2023-10-27T02:25:25.212211800Z",
     "start_time": "2023-10-27T02:25:23.377594800Z"
    }
   },
   "id": "449b336853ee0731"
  },
  {
   "cell_type": "markdown",
   "source": [
    "# Inference"
   ],
   "metadata": {
    "collapsed": false
   },
   "id": "db517d43e239c8b8"
  },
  {
   "cell_type": "code",
   "execution_count": 3,
   "outputs": [],
   "source": [
    "def inference(model, inference_request, tokenizer=tokenizer):\n",
    "    inputs = tokenizer(inference_request, return_tensors=\"pt\").to(device)\n",
    "    inputs = {k: v for k, v in inputs.items()}\n",
    "\n",
    "    outputs = model.generate(**inputs, num_beams=1, do_sample=False)\n",
    "    for ex in outputs:\n",
    "        print(tokenizer.decode(ex, skip_special_tokens=True))"
   ],
   "metadata": {
    "collapsed": false,
    "ExecuteTime": {
     "end_time": "2023-10-27T02:25:25.222924600Z",
     "start_time": "2023-10-27T02:25:25.214446800Z"
    }
   },
   "id": "d91c833d2e72b7dd"
  },
  {
   "cell_type": "code",
   "execution_count": 4,
   "outputs": [
    {
     "name": "stdout",
     "output_type": "stream",
     "text": [
      "I'm so tired!\n"
     ]
    }
   ],
   "source": [
    "inference(model, \"I am so fucking tired!\", tokenizer)"
   ],
   "metadata": {
    "collapsed": false,
    "ExecuteTime": {
     "end_time": "2023-10-27T02:25:25.322613500Z",
     "start_time": "2023-10-27T02:25:25.216944400Z"
    }
   },
   "id": "c06ebb3be2c0ba9e"
  },
  {
   "cell_type": "code",
   "execution_count": null,
   "outputs": [],
   "source": [],
   "metadata": {
    "collapsed": false
   },
   "id": "dfbccbc0e3920fb0"
  }
 ],
 "metadata": {
  "kernelspec": {
   "display_name": "Python 3",
   "language": "python",
   "name": "python3"
  },
  "language_info": {
   "codemirror_mode": {
    "name": "ipython",
    "version": 2
   },
   "file_extension": ".py",
   "mimetype": "text/x-python",
   "name": "python",
   "nbconvert_exporter": "python",
   "pygments_lexer": "ipython2",
   "version": "2.7.6"
  }
 },
 "nbformat": 4,
 "nbformat_minor": 5
}
