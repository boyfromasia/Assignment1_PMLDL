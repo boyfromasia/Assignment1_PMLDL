{
 "cells": [
  {
   "cell_type": "code",
   "execution_count": 1,
   "id": "initial_id",
   "metadata": {
    "ExecuteTime": {
     "end_time": "2023-11-05T10:35:29.220271900Z",
     "start_time": "2023-11-05T10:35:26.081004300Z"
    }
   },
   "outputs": [],
   "source": [
    "import os\n",
    "import numpy as np\n",
    "import pandas as pd\n",
    "from sklearn.model_selection import train_test_split\n",
    "import torch\n",
    "from torch.utils.data import Dataset, DataLoader\n",
    "from transformers import AutoModelForSeq2SeqLM, DataCollatorForSeq2Seq, Seq2SeqTrainingArguments, Seq2SeqTrainer\n",
    "from transformers import AutoTokenizer\n",
    "from torch import cuda\n",
    "\n",
    "from transformers import set_seed\n",
    "\n",
    "SEED = 42\n",
    "set_seed(SEED)\n",
    "torch.manual_seed(SEED)\n",
    "np.random.seed(SEED)\n",
    "\n",
    "device = 'cuda' if cuda.is_available() else 'cpu'\n",
    "os.environ['CUDA_VISIBLE_DEVICES'] = '1'\n",
    "PATH = \"../data/inheritim/\"\n",
    "SAVE_PATH = \"../models/t5-detoxification/\""
   ]
  },
  {
   "cell_type": "code",
   "execution_count": 5,
   "id": "5c8ec458664fcf5c",
   "metadata": {
    "ExecuteTime": {
     "end_time": "2023-10-26T12:33:45.493930300Z",
     "start_time": "2023-10-26T12:33:44.500029800Z"
    }
   },
   "outputs": [
    {
     "data": {
      "text/html": [
       "<div>\n",
       "<style scoped>\n",
       "    .dataframe tbody tr th:only-of-type {\n",
       "        vertical-align: middle;\n",
       "    }\n",
       "\n",
       "    .dataframe tbody tr th {\n",
       "        vertical-align: top;\n",
       "    }\n",
       "\n",
       "    .dataframe thead th {\n",
       "        text-align: right;\n",
       "    }\n",
       "</style>\n",
       "<table border=\"1\" class=\"dataframe\">\n",
       "  <thead>\n",
       "    <tr style=\"text-align: right;\">\n",
       "      <th></th>\n",
       "      <th>reference</th>\n",
       "      <th>translation</th>\n",
       "      <th>similarity</th>\n",
       "      <th>lenght_diff</th>\n",
       "      <th>ref_tox</th>\n",
       "      <th>trn_tox</th>\n",
       "      <th>avg_word_ref</th>\n",
       "      <th>avg_word_trans</th>\n",
       "    </tr>\n",
       "  </thead>\n",
       "  <tbody>\n",
       "    <tr>\n",
       "      <th>0</th>\n",
       "      <td>If Alkar is flooding her with psychic waste, t...</td>\n",
       "      <td>if Alkar floods her with her mental waste, it ...</td>\n",
       "      <td>0.785171</td>\n",
       "      <td>0.010309</td>\n",
       "      <td>0.981983</td>\n",
       "      <td>0.014195</td>\n",
       "      <td>15</td>\n",
       "      <td>16</td>\n",
       "    </tr>\n",
       "    <tr>\n",
       "      <th>1</th>\n",
       "      <td>Now you're getting nasty.</td>\n",
       "      <td>you're becoming disgusting.</td>\n",
       "      <td>0.749687</td>\n",
       "      <td>0.071429</td>\n",
       "      <td>0.999039</td>\n",
       "      <td>0.065473</td>\n",
       "      <td>4</td>\n",
       "      <td>3</td>\n",
       "    </tr>\n",
       "    <tr>\n",
       "      <th>2</th>\n",
       "      <td>Well, we could spare your life, for one.</td>\n",
       "      <td>well, we can spare your life.</td>\n",
       "      <td>0.919051</td>\n",
       "      <td>0.268293</td>\n",
       "      <td>0.985068</td>\n",
       "      <td>0.213313</td>\n",
       "      <td>8</td>\n",
       "      <td>6</td>\n",
       "    </tr>\n",
       "    <tr>\n",
       "      <th>3</th>\n",
       "      <td>Ah! Monkey, you've got to snap out of it.</td>\n",
       "      <td>monkey, you have to wake up.</td>\n",
       "      <td>0.664333</td>\n",
       "      <td>0.309524</td>\n",
       "      <td>0.994215</td>\n",
       "      <td>0.053362</td>\n",
       "      <td>9</td>\n",
       "      <td>6</td>\n",
       "    </tr>\n",
       "    <tr>\n",
       "      <th>4</th>\n",
       "      <td>I've got orders to put her down.</td>\n",
       "      <td>I have orders to kill her.</td>\n",
       "      <td>0.726639</td>\n",
       "      <td>0.181818</td>\n",
       "      <td>0.999348</td>\n",
       "      <td>0.009402</td>\n",
       "      <td>7</td>\n",
       "      <td>6</td>\n",
       "    </tr>\n",
       "  </tbody>\n",
       "</table>\n",
       "</div>"
      ],
      "text/plain": [
       "                                           reference  \\\n",
       "0  If Alkar is flooding her with psychic waste, t...   \n",
       "1                          Now you're getting nasty.   \n",
       "2           Well, we could spare your life, for one.   \n",
       "3          Ah! Monkey, you've got to snap out of it.   \n",
       "4                   I've got orders to put her down.   \n",
       "\n",
       "                                         translation  similarity  lenght_diff  \\\n",
       "0  if Alkar floods her with her mental waste, it ...    0.785171     0.010309   \n",
       "1                        you're becoming disgusting.    0.749687     0.071429   \n",
       "2                      well, we can spare your life.    0.919051     0.268293   \n",
       "3                       monkey, you have to wake up.    0.664333     0.309524   \n",
       "4                         I have orders to kill her.    0.726639     0.181818   \n",
       "\n",
       "    ref_tox   trn_tox  avg_word_ref  avg_word_trans  \n",
       "0  0.981983  0.014195            15              16  \n",
       "1  0.999039  0.065473             4               3  \n",
       "2  0.985068  0.213313             8               6  \n",
       "3  0.994215  0.053362             9               6  \n",
       "4  0.999348  0.009402             7               6  "
      ]
     },
     "execution_count": 5,
     "metadata": {},
     "output_type": "execute_result"
    }
   ],
   "source": [
    "df = pd.read_csv(PATH + 'filtered.csv', index_col=0)\n",
    "df.head()"
   ]
  },
  {
   "cell_type": "markdown",
   "id": "811276f77e3f9900",
   "metadata": {},
   "source": [
    "split out data into train and test set"
   ]
  },
  {
   "cell_type": "code",
   "execution_count": 6,
   "id": "9fdb742ada4c1891",
   "metadata": {
    "ExecuteTime": {
     "end_time": "2023-10-26T12:33:45.585582600Z",
     "start_time": "2023-10-26T12:33:45.494926400Z"
    }
   },
   "outputs": [
    {
     "name": "stdout",
     "output_type": "stream",
     "text": [
      "462221 115556\n"
     ]
    }
   ],
   "source": [
    "df_train, df_test = train_test_split(df, test_size=0.2, random_state=SEED)\n",
    "print(df_train.shape[0], df_test.shape[0])"
   ]
  },
  {
   "cell_type": "markdown",
   "id": "f1d12c11d90ec443",
   "metadata": {},
   "source": [
    "# Creating Dataset"
   ]
  },
  {
   "cell_type": "code",
   "execution_count": 7,
   "id": "721c23d87dcfcbb3",
   "metadata": {
    "ExecuteTime": {
     "end_time": "2023-10-25T13:37:16.706498200Z",
     "start_time": "2023-10-25T13:37:15.580780700Z"
    }
   },
   "outputs": [],
   "source": [
    "model_checkpoint = \"t5-small\"\n",
    "tokenizer = AutoTokenizer.from_pretrained(model_checkpoint)"
   ]
  },
  {
   "cell_type": "code",
   "execution_count": 8,
   "id": "49670617887738de",
   "metadata": {
    "ExecuteTime": {
     "end_time": "2023-10-25T13:37:16.718604100Z",
     "start_time": "2023-10-25T13:37:16.712247500Z"
    }
   },
   "outputs": [],
   "source": [
    "class Dataset(Dataset):\n",
    "    def __init__(self, df: pd.DataFrame, tokenizer):\n",
    "        self.x = tokenizer(df.reference.tolist(), \n",
    "                           truncation=True,\n",
    "                           )\n",
    "        \n",
    "        self.y = tokenizer(df.translation.tolist(),\n",
    "                           truncation=True,\n",
    "                           )\n",
    "        \n",
    "    def __getitem__(self, idx: int):\n",
    "        return {\n",
    "            \"input_ids\": self.x[\"input_ids\"][idx],\n",
    "            \"attention_mask\": self.x[\"attention_mask\"][idx],\n",
    "            \"labels\": self.y['input_ids'][idx],\n",
    "        }\n",
    "\n",
    "    def __len__(self):\n",
    "        return len(self.x['input_ids'])"
   ]
  },
  {
   "cell_type": "code",
   "execution_count": 9,
   "id": "c133ed876e85f74b",
   "metadata": {
    "ExecuteTime": {
     "end_time": "2023-10-25T13:39:20.276896500Z",
     "start_time": "2023-10-25T13:37:25.921825100Z"
    }
   },
   "outputs": [],
   "source": [
    "train_dataset = Dataset(df_train, tokenizer)\n",
    "test_dataset = Dataset(df_test, tokenizer)"
   ]
  },
  {
   "cell_type": "code",
   "execution_count": 10,
   "id": "1bf23be7",
   "metadata": {
    "ExecuteTime": {
     "end_time": "2023-10-25T13:39:20.284215400Z",
     "start_time": "2023-10-25T13:39:20.280228Z"
    }
   },
   "outputs": [
    {
     "data": {
      "text/plain": [
       "(462221, 115556)"
      ]
     },
     "execution_count": 10,
     "metadata": {},
     "output_type": "execute_result"
    }
   ],
   "source": [
    "len(train_dataset), len(test_dataset)"
   ]
  },
  {
   "cell_type": "markdown",
   "id": "3b7cd392",
   "metadata": {},
   "source": [
    "# Load Dataset into Dataloader"
   ]
  },
  {
   "cell_type": "code",
   "execution_count": 11,
   "id": "33852cf64825b0d7",
   "metadata": {
    "ExecuteTime": {
     "end_time": "2023-10-25T00:31:57.143463200Z",
     "start_time": "2023-10-25T00:31:57.111407500Z"
    }
   },
   "outputs": [],
   "source": [
    "batch_size = 32\n",
    "train_dataloader = DataLoader(train_dataset, batch_size=batch_size, shuffle=True)\n",
    "test_dataloader = DataLoader(test_dataset, batch_size=batch_size)"
   ]
  },
  {
   "cell_type": "markdown",
   "id": "a07708107202d10d",
   "metadata": {},
   "source": [
    "# Trainer"
   ]
  },
  {
   "cell_type": "code",
   "execution_count": 12,
   "id": "3c36928e15258007",
   "metadata": {
    "ExecuteTime": {
     "end_time": "2023-10-25T00:31:58.099347600Z",
     "start_time": "2023-10-25T00:31:57.114514600Z"
    }
   },
   "outputs": [],
   "source": [
    "model = AutoModelForSeq2SeqLM.from_pretrained(model_checkpoint,).to(device)"
   ]
  },
  {
   "cell_type": "code",
   "execution_count": 13,
   "id": "77c439b502a8c180",
   "metadata": {
    "ExecuteTime": {
     "end_time": "2023-10-25T00:31:58.110345700Z",
     "start_time": "2023-10-25T00:31:58.100344300Z"
    }
   },
   "outputs": [],
   "source": [
    "args = Seq2SeqTrainingArguments(\n",
    "    output_dir=SAVE_PATH,   \n",
    "    overwrite_output_dir=True,\n",
    "    num_train_epochs=1,             \n",
    "    per_device_train_batch_size=batch_size,  \n",
    "    per_device_eval_batch_size=batch_size,    \n",
    "    warmup_steps=300,               \n",
    "    weight_decay=0.01,                  \n",
    "    learning_rate=3e-5,\n",
    "    logging_steps=1000,\n",
    "    eval_steps=1000,\n",
    "    evaluation_strategy='steps',\n",
    "    save_total_limit=1,\n",
    "    save_steps=1000,\n",
    ")"
   ]
  },
  {
   "cell_type": "code",
   "execution_count": 14,
   "id": "ce24b454240e124b",
   "metadata": {
    "ExecuteTime": {
     "end_time": "2023-10-25T00:31:58.110345700Z",
     "start_time": "2023-10-25T00:31:58.107847900Z"
    }
   },
   "outputs": [],
   "source": [
    "data_collator = DataCollatorForSeq2Seq(tokenizer, model=model)"
   ]
  },
  {
   "cell_type": "code",
   "execution_count": 15,
   "id": "f3c8029c99917cc7",
   "metadata": {
    "ExecuteTime": {
     "end_time": "2023-10-25T00:31:58.123750400Z",
     "start_time": "2023-10-25T00:31:58.117288900Z"
    }
   },
   "outputs": [],
   "source": [
    "trainer = Seq2SeqTrainer(\n",
    "    model=model,                         \n",
    "    args=args,                  \n",
    "    train_dataset=train_dataset,         \n",
    "    eval_dataset=test_dataset,          \n",
    "    data_collator=data_collator,\n",
    "    tokenizer=tokenizer,\n",
    ")"
   ]
  },
  {
   "cell_type": "code",
   "execution_count": 16,
   "id": "1aa2e24b1cde16e0",
   "metadata": {
    "ExecuteTime": {
     "end_time": "2023-10-25T00:32:00.723396Z",
     "start_time": "2023-10-25T00:31:58.122753600Z"
    }
   },
   "outputs": [
    {
     "name": "stderr",
     "output_type": "stream",
     "text": [
      "You're using a T5TokenizerFast tokenizer. Please note that with a fast tokenizer, using the `__call__` method is faster than using a method to encode the text followed by a call to the `pad` method to get a padded encoding.\n"
     ]
    },
    {
     "data": {
      "text/html": [
       "\n",
       "    <div>\n",
       "      \n",
       "      <progress value='14445' max='14445' style='width:300px; height:20px; vertical-align: middle;'></progress>\n",
       "      [14445/14445 1:05:49, Epoch 1/1]\n",
       "    </div>\n",
       "    <table border=\"1\" class=\"dataframe\">\n",
       "  <thead>\n",
       " <tr style=\"text-align: left;\">\n",
       "      <th>Step</th>\n",
       "      <th>Training Loss</th>\n",
       "      <th>Validation Loss</th>\n",
       "    </tr>\n",
       "  </thead>\n",
       "  <tbody>\n",
       "    <tr>\n",
       "      <td>1000</td>\n",
       "      <td>2.142300</td>\n",
       "      <td>1.737445</td>\n",
       "    </tr>\n",
       "    <tr>\n",
       "      <td>2000</td>\n",
       "      <td>1.854100</td>\n",
       "      <td>1.672046</td>\n",
       "    </tr>\n",
       "    <tr>\n",
       "      <td>3000</td>\n",
       "      <td>1.802700</td>\n",
       "      <td>1.638613</td>\n",
       "    </tr>\n",
       "    <tr>\n",
       "      <td>4000</td>\n",
       "      <td>1.791400</td>\n",
       "      <td>1.617661</td>\n",
       "    </tr>\n",
       "    <tr>\n",
       "      <td>5000</td>\n",
       "      <td>1.759500</td>\n",
       "      <td>1.603462</td>\n",
       "    </tr>\n",
       "    <tr>\n",
       "      <td>6000</td>\n",
       "      <td>1.744100</td>\n",
       "      <td>1.590576</td>\n",
       "    </tr>\n",
       "    <tr>\n",
       "      <td>7000</td>\n",
       "      <td>1.739300</td>\n",
       "      <td>1.580830</td>\n",
       "    </tr>\n",
       "    <tr>\n",
       "      <td>8000</td>\n",
       "      <td>1.720300</td>\n",
       "      <td>1.573294</td>\n",
       "    </tr>\n",
       "    <tr>\n",
       "      <td>9000</td>\n",
       "      <td>1.722400</td>\n",
       "      <td>1.568296</td>\n",
       "    </tr>\n",
       "    <tr>\n",
       "      <td>10000</td>\n",
       "      <td>1.704100</td>\n",
       "      <td>1.563477</td>\n",
       "    </tr>\n",
       "    <tr>\n",
       "      <td>11000</td>\n",
       "      <td>1.703300</td>\n",
       "      <td>1.561197</td>\n",
       "    </tr>\n",
       "    <tr>\n",
       "      <td>12000</td>\n",
       "      <td>1.701700</td>\n",
       "      <td>1.558434</td>\n",
       "    </tr>\n",
       "    <tr>\n",
       "      <td>13000</td>\n",
       "      <td>1.704200</td>\n",
       "      <td>1.556265</td>\n",
       "    </tr>\n",
       "    <tr>\n",
       "      <td>14000</td>\n",
       "      <td>1.707600</td>\n",
       "      <td>1.555759</td>\n",
       "    </tr>\n",
       "  </tbody>\n",
       "</table><p>"
      ],
      "text/plain": [
       "<IPython.core.display.HTML object>"
      ]
     },
     "metadata": {},
     "output_type": "display_data"
    },
    {
     "data": {
      "text/plain": [
       "TrainOutput(global_step=14445, training_loss=1.7689432167272412, metrics={'train_runtime': 3949.9181, 'train_samples_per_second': 117.02, 'train_steps_per_second': 3.657, 'total_flos': 5962041088278528.0, 'train_loss': 1.7689432167272412, 'epoch': 1.0})"
      ]
     },
     "execution_count": 16,
     "metadata": {},
     "output_type": "execute_result"
    }
   ],
   "source": [
    "trainer.train()"
   ]
  },
  {
   "cell_type": "markdown",
   "id": "8db8648e0a970fd6",
   "metadata": {},
   "source": [
    "# Saving"
   ]
  },
  {
   "cell_type": "code",
   "execution_count": 17,
   "id": "985dc3b1cb2e81cc",
   "metadata": {
    "ExecuteTime": {
     "end_time": "2023-10-25T09:53:13.189498600Z",
     "start_time": "2023-10-25T09:53:12.711310500Z"
    }
   },
   "outputs": [],
   "source": [
    "trainer.save_model(SAVE_PATH + \"checkpoint-final/\")"
   ]
  },
  {
   "cell_type": "code",
   "execution_count": null,
   "id": "11187d90",
   "metadata": {},
   "outputs": [],
   "source": []
  }
 ],
 "metadata": {
  "kernelspec": {
   "display_name": "Python 3 (ipykernel)",
   "language": "python",
   "name": "python3"
  },
  "language_info": {
   "codemirror_mode": {
    "name": "ipython",
    "version": 3
   },
   "file_extension": ".py",
   "mimetype": "text/x-python",
   "name": "python",
   "nbconvert_exporter": "python",
   "pygments_lexer": "ipython3",
   "version": "3.11.5"
  }
 },
 "nbformat": 4,
 "nbformat_minor": 5
}
