{
 "cells": [
  {
   "cell_type": "code",
   "execution_count": 1,
   "outputs": [],
   "source": [
    "import zipfile"
   ],
   "metadata": {
    "collapsed": false,
    "ExecuteTime": {
     "end_time": "2023-10-24T18:15:30.598578100Z",
     "start_time": "2023-10-24T18:15:30.597052300Z"
    }
   },
   "id": "ce444e01015b86fb"
  },
  {
   "cell_type": "code",
   "execution_count": 2,
   "id": "initial_id",
   "metadata": {
    "collapsed": true,
    "ExecuteTime": {
     "end_time": "2023-10-24T18:15:31.044932200Z",
     "start_time": "2023-10-24T18:15:30.600576100Z"
    }
   },
   "outputs": [],
   "source": [
    "path_immutable_file = \"../data/raw/filtered_paranmt.zip\"\n",
    "path_unzipped_file = \"../data/raw/\"\n",
    "\n",
    "\n",
    "with zipfile.ZipFile(path_immutable_file, 'r') as zip_ref:\n",
    "    zip_ref.extractall(path_unzipped_file)"
   ]
  },
  {
   "cell_type": "code",
   "execution_count": null,
   "outputs": [],
   "source": [],
   "metadata": {
    "collapsed": false
   },
   "id": "945280f9da39b1e7"
  }
 ],
 "metadata": {
  "kernelspec": {
   "display_name": "Python 3",
   "language": "python",
   "name": "python3"
  },
  "language_info": {
   "codemirror_mode": {
    "name": "ipython",
    "version": 2
   },
   "file_extension": ".py",
   "mimetype": "text/x-python",
   "name": "python",
   "nbconvert_exporter": "python",
   "pygments_lexer": "ipython2",
   "version": "2.7.6"
  }
 },
 "nbformat": 4,
 "nbformat_minor": 5
}
