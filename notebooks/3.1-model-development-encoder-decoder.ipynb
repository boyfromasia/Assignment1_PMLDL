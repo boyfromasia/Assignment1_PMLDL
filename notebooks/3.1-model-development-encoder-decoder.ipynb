{
 "cells": [
  {
   "cell_type": "code",
   "execution_count": 1,
   "id": "initial_id",
   "metadata": {
    "ExecuteTime": {
     "end_time": "2023-10-26T01:09:51.310278400Z",
     "start_time": "2023-10-26T01:09:49.061108Z"
    }
   },
   "outputs": [],
   "source": [
    "import torch\n",
    "import torch.nn as nn\n",
    "import torch.optim as optim\n",
    "\n",
    "import pandas as pd\n",
    "import numpy as np\n",
    "import unicodedata\n",
    "import re\n",
    "from sklearn.model_selection import train_test_split\n",
    "from tqdm import tqdm\n",
    "\n",
    "SEED = 42\n",
    "torch.manual_seed(SEED)\n",
    "np.random.seed(SEED)\n",
    "\n",
    "PATH_OUT = \"../models/gru-detoxification/\""
   ]
  },
  {
   "cell_type": "markdown",
   "source": [
    "# Data Preparation"
   ],
   "metadata": {
    "collapsed": false
   },
   "id": "cca66dcda41277b6"
  },
  {
   "cell_type": "code",
   "execution_count": 2,
   "id": "ca349e8c871da6ec",
   "metadata": {
    "ExecuteTime": {
     "end_time": "2023-10-25T22:09:29.039914200Z",
     "start_time": "2023-10-25T22:09:27.993941600Z"
    }
   },
   "outputs": [
    {
     "data": {
      "text/html": [
       "<div>\n",
       "<style scoped>\n",
       "    .dataframe tbody tr th:only-of-type {\n",
       "        vertical-align: middle;\n",
       "    }\n",
       "\n",
       "    .dataframe tbody tr th {\n",
       "        vertical-align: top;\n",
       "    }\n",
       "\n",
       "    .dataframe thead th {\n",
       "        text-align: right;\n",
       "    }\n",
       "</style>\n",
       "<table border=\"1\" class=\"dataframe\">\n",
       "  <thead>\n",
       "    <tr style=\"text-align: right;\">\n",
       "      <th></th>\n",
       "      <th>reference</th>\n",
       "      <th>translation</th>\n",
       "      <th>similarity</th>\n",
       "      <th>lenght_diff</th>\n",
       "      <th>ref_tox</th>\n",
       "      <th>trn_tox</th>\n",
       "      <th>avg_word_ref</th>\n",
       "      <th>avg_word_trans</th>\n",
       "    </tr>\n",
       "  </thead>\n",
       "  <tbody>\n",
       "    <tr>\n",
       "      <th>0</th>\n",
       "      <td>If Alkar is flooding her with psychic waste, t...</td>\n",
       "      <td>if Alkar floods her with her mental waste, it ...</td>\n",
       "      <td>0.785171</td>\n",
       "      <td>0.010309</td>\n",
       "      <td>0.981983</td>\n",
       "      <td>0.014195</td>\n",
       "      <td>15</td>\n",
       "      <td>16</td>\n",
       "    </tr>\n",
       "    <tr>\n",
       "      <th>1</th>\n",
       "      <td>Now you're getting nasty.</td>\n",
       "      <td>you're becoming disgusting.</td>\n",
       "      <td>0.749687</td>\n",
       "      <td>0.071429</td>\n",
       "      <td>0.999039</td>\n",
       "      <td>0.065473</td>\n",
       "      <td>4</td>\n",
       "      <td>3</td>\n",
       "    </tr>\n",
       "    <tr>\n",
       "      <th>2</th>\n",
       "      <td>Well, we could spare your life, for one.</td>\n",
       "      <td>well, we can spare your life.</td>\n",
       "      <td>0.919051</td>\n",
       "      <td>0.268293</td>\n",
       "      <td>0.985068</td>\n",
       "      <td>0.213313</td>\n",
       "      <td>8</td>\n",
       "      <td>6</td>\n",
       "    </tr>\n",
       "    <tr>\n",
       "      <th>3</th>\n",
       "      <td>Ah! Monkey, you've got to snap out of it.</td>\n",
       "      <td>monkey, you have to wake up.</td>\n",
       "      <td>0.664333</td>\n",
       "      <td>0.309524</td>\n",
       "      <td>0.994215</td>\n",
       "      <td>0.053362</td>\n",
       "      <td>9</td>\n",
       "      <td>6</td>\n",
       "    </tr>\n",
       "    <tr>\n",
       "      <th>4</th>\n",
       "      <td>I've got orders to put her down.</td>\n",
       "      <td>I have orders to kill her.</td>\n",
       "      <td>0.726639</td>\n",
       "      <td>0.181818</td>\n",
       "      <td>0.999348</td>\n",
       "      <td>0.009402</td>\n",
       "      <td>7</td>\n",
       "      <td>6</td>\n",
       "    </tr>\n",
       "  </tbody>\n",
       "</table>\n",
       "</div>"
      ],
      "text/plain": [
       "                                           reference  \\\n",
       "0  If Alkar is flooding her with psychic waste, t...   \n",
       "1                          Now you're getting nasty.   \n",
       "2           Well, we could spare your life, for one.   \n",
       "3          Ah! Monkey, you've got to snap out of it.   \n",
       "4                   I've got orders to put her down.   \n",
       "\n",
       "                                         translation  similarity  lenght_diff  \\\n",
       "0  if Alkar floods her with her mental waste, it ...    0.785171     0.010309   \n",
       "1                        you're becoming disgusting.    0.749687     0.071429   \n",
       "2                      well, we can spare your life.    0.919051     0.268293   \n",
       "3                       monkey, you have to wake up.    0.664333     0.309524   \n",
       "4                         I have orders to kill her.    0.726639     0.181818   \n",
       "\n",
       "    ref_tox   trn_tox  avg_word_ref  avg_word_trans  \n",
       "0  0.981983  0.014195            15              16  \n",
       "1  0.999039  0.065473             4               3  \n",
       "2  0.985068  0.213313             8               6  \n",
       "3  0.994215  0.053362             9               6  \n",
       "4  0.999348  0.009402             7               6  "
      ]
     },
     "execution_count": 2,
     "metadata": {},
     "output_type": "execute_result"
    }
   ],
   "source": [
    "PATH = \"../data/inheritim/\"\n",
    "df = pd.read_csv(PATH + 'filtered.csv', index_col=0)\n",
    "df.head()"
   ]
  },
  {
   "cell_type": "code",
   "execution_count": 3,
   "id": "1f7e17e8f58a9e4d",
   "metadata": {
    "ExecuteTime": {
     "end_time": "2023-10-25T22:09:45.513639100Z",
     "start_time": "2023-10-25T22:09:29.041906Z"
    }
   },
   "outputs": [
    {
     "data": {
      "text/html": [
       "<div>\n",
       "<style scoped>\n",
       "    .dataframe tbody tr th:only-of-type {\n",
       "        vertical-align: middle;\n",
       "    }\n",
       "\n",
       "    .dataframe tbody tr th {\n",
       "        vertical-align: top;\n",
       "    }\n",
       "\n",
       "    .dataframe thead th {\n",
       "        text-align: right;\n",
       "    }\n",
       "</style>\n",
       "<table border=\"1\" class=\"dataframe\">\n",
       "  <thead>\n",
       "    <tr style=\"text-align: right;\">\n",
       "      <th></th>\n",
       "      <th>reference</th>\n",
       "      <th>translation</th>\n",
       "      <th>similarity</th>\n",
       "      <th>lenght_diff</th>\n",
       "      <th>ref_tox</th>\n",
       "      <th>trn_tox</th>\n",
       "      <th>avg_word_ref</th>\n",
       "      <th>avg_word_trans</th>\n",
       "    </tr>\n",
       "  </thead>\n",
       "  <tbody>\n",
       "    <tr>\n",
       "      <th>0</th>\n",
       "      <td>&lt;start&gt; if alkar is flooding her with psychic ...</td>\n",
       "      <td>&lt;start&gt; if alkar floods her with her mental wa...</td>\n",
       "      <td>0.785171</td>\n",
       "      <td>0.010309</td>\n",
       "      <td>0.981983</td>\n",
       "      <td>0.014195</td>\n",
       "      <td>15</td>\n",
       "      <td>16</td>\n",
       "    </tr>\n",
       "    <tr>\n",
       "      <th>1</th>\n",
       "      <td>&lt;start&gt; now you re getting nasty . &lt;end&gt;</td>\n",
       "      <td>&lt;start&gt; you re becoming disgusting . &lt;end&gt;</td>\n",
       "      <td>0.749687</td>\n",
       "      <td>0.071429</td>\n",
       "      <td>0.999039</td>\n",
       "      <td>0.065473</td>\n",
       "      <td>4</td>\n",
       "      <td>3</td>\n",
       "    </tr>\n",
       "    <tr>\n",
       "      <th>2</th>\n",
       "      <td>&lt;start&gt; well , we could spare your life , for ...</td>\n",
       "      <td>&lt;start&gt; well , we can spare your life . &lt;end&gt;</td>\n",
       "      <td>0.919051</td>\n",
       "      <td>0.268293</td>\n",
       "      <td>0.985068</td>\n",
       "      <td>0.213313</td>\n",
       "      <td>8</td>\n",
       "      <td>6</td>\n",
       "    </tr>\n",
       "    <tr>\n",
       "      <th>3</th>\n",
       "      <td>&lt;start&gt; ah ! monkey , you ve got to snap out o...</td>\n",
       "      <td>&lt;start&gt; monkey , you have to wake up . &lt;end&gt;</td>\n",
       "      <td>0.664333</td>\n",
       "      <td>0.309524</td>\n",
       "      <td>0.994215</td>\n",
       "      <td>0.053362</td>\n",
       "      <td>9</td>\n",
       "      <td>6</td>\n",
       "    </tr>\n",
       "    <tr>\n",
       "      <th>4</th>\n",
       "      <td>&lt;start&gt; i ve got orders to put her down . &lt;end&gt;</td>\n",
       "      <td>&lt;start&gt; i have orders to kill her . &lt;end&gt;</td>\n",
       "      <td>0.726639</td>\n",
       "      <td>0.181818</td>\n",
       "      <td>0.999348</td>\n",
       "      <td>0.009402</td>\n",
       "      <td>7</td>\n",
       "      <td>6</td>\n",
       "    </tr>\n",
       "    <tr>\n",
       "      <th>5</th>\n",
       "      <td>&lt;start&gt; i m not gonna have a child . . . . . ....</td>\n",
       "      <td>&lt;start&gt; i m not going to breed kids with a gen...</td>\n",
       "      <td>0.703185</td>\n",
       "      <td>0.206522</td>\n",
       "      <td>0.950956</td>\n",
       "      <td>0.035846</td>\n",
       "      <td>17</td>\n",
       "      <td>14</td>\n",
       "    </tr>\n",
       "    <tr>\n",
       "      <th>6</th>\n",
       "      <td>&lt;start&gt; they re all laughing at us , so we ll ...</td>\n",
       "      <td>&lt;start&gt; they re laughing at us . we ll show yo...</td>\n",
       "      <td>0.618866</td>\n",
       "      <td>0.230769</td>\n",
       "      <td>0.999492</td>\n",
       "      <td>0.000131</td>\n",
       "      <td>10</td>\n",
       "      <td>7</td>\n",
       "    </tr>\n",
       "    <tr>\n",
       "      <th>7</th>\n",
       "      <td>&lt;start&gt; maine was very short on black people b...</td>\n",
       "      <td>&lt;start&gt; there wasn t much black in maine then ...</td>\n",
       "      <td>0.720482</td>\n",
       "      <td>0.187500</td>\n",
       "      <td>0.963680</td>\n",
       "      <td>0.148710</td>\n",
       "      <td>9</td>\n",
       "      <td>7</td>\n",
       "    </tr>\n",
       "    <tr>\n",
       "      <th>8</th>\n",
       "      <td>&lt;start&gt; briggs , what the hell s happening ? &lt;...</td>\n",
       "      <td>&lt;start&gt; briggs , what the hell is going on ? &lt;...</td>\n",
       "      <td>0.920373</td>\n",
       "      <td>0.000000</td>\n",
       "      <td>0.841071</td>\n",
       "      <td>0.159096</td>\n",
       "      <td>5</td>\n",
       "      <td>7</td>\n",
       "    </tr>\n",
       "    <tr>\n",
       "      <th>9</th>\n",
       "      <td>&lt;start&gt; another one simply had no clue what to...</td>\n",
       "      <td>&lt;start&gt; another simply didn t know what to do ...</td>\n",
       "      <td>0.877540</td>\n",
       "      <td>0.101695</td>\n",
       "      <td>0.930472</td>\n",
       "      <td>0.055371</td>\n",
       "      <td>25</td>\n",
       "      <td>21</td>\n",
       "    </tr>\n",
       "  </tbody>\n",
       "</table>\n",
       "</div>"
      ],
      "text/plain": [
       "                                           reference  \\\n",
       "0  <start> if alkar is flooding her with psychic ...   \n",
       "1           <start> now you re getting nasty . <end>   \n",
       "2  <start> well , we could spare your life , for ...   \n",
       "3  <start> ah ! monkey , you ve got to snap out o...   \n",
       "4    <start> i ve got orders to put her down . <end>   \n",
       "5  <start> i m not gonna have a child . . . . . ....   \n",
       "6  <start> they re all laughing at us , so we ll ...   \n",
       "7  <start> maine was very short on black people b...   \n",
       "8  <start> briggs , what the hell s happening ? <...   \n",
       "9  <start> another one simply had no clue what to...   \n",
       "\n",
       "                                         translation  similarity  lenght_diff  \\\n",
       "0  <start> if alkar floods her with her mental wa...    0.785171     0.010309   \n",
       "1         <start> you re becoming disgusting . <end>    0.749687     0.071429   \n",
       "2      <start> well , we can spare your life . <end>    0.919051     0.268293   \n",
       "3       <start> monkey , you have to wake up . <end>    0.664333     0.309524   \n",
       "4          <start> i have orders to kill her . <end>    0.726639     0.181818   \n",
       "5  <start> i m not going to breed kids with a gen...    0.703185     0.206522   \n",
       "6  <start> they re laughing at us . we ll show yo...    0.618866     0.230769   \n",
       "7  <start> there wasn t much black in maine then ...    0.720482     0.187500   \n",
       "8  <start> briggs , what the hell is going on ? <...    0.920373     0.000000   \n",
       "9  <start> another simply didn t know what to do ...    0.877540     0.101695   \n",
       "\n",
       "    ref_tox   trn_tox  avg_word_ref  avg_word_trans  \n",
       "0  0.981983  0.014195            15              16  \n",
       "1  0.999039  0.065473             4               3  \n",
       "2  0.985068  0.213313             8               6  \n",
       "3  0.994215  0.053362             9               6  \n",
       "4  0.999348  0.009402             7               6  \n",
       "5  0.950956  0.035846            17              14  \n",
       "6  0.999492  0.000131            10               7  \n",
       "7  0.963680  0.148710             9               7  \n",
       "8  0.841071  0.159096             5               7  \n",
       "9  0.930472  0.055371            25              21  "
      ]
     },
     "execution_count": 3,
     "metadata": {},
     "output_type": "execute_result"
    }
   ],
   "source": [
    "def unicode_to_ascii(s: str) -> str:\n",
    "    \"\"\"\n",
    "    Normalizes latin chars with accent to their canonical decomposition\n",
    "\n",
    "    :param s: input sentence\n",
    "    :return: normalized sentence\n",
    "    \"\"\"\n",
    "    return ''.join(c for c in unicodedata.normalize('NFD', s)\n",
    "                   if unicodedata.category(c) != 'Mn')\n",
    "\n",
    "def preprocess_sentence(w) -> str:\n",
    "    \"\"\"\n",
    "    preprocess the sentence\n",
    "    :param w: input sentence\n",
    "    :return: preprocessed sentence\n",
    "    \"\"\"\n",
    "    w = unicode_to_ascii(w.lower().strip())\n",
    "    # creating a space between a word and the punctuation following it\n",
    "    # eg: \"he is a boy.\" => \"he is a boy .\" \n",
    "    w = re.sub(r\"([?.!,¿])\", r\" \\1 \", w)\n",
    "    w = re.sub(r'[\" \"]+', \" \", w)\n",
    "    # replacing everything with space except (a-z, A-Z, \".\", \"?\", \"!\", \",\")\n",
    "    w = re.sub(r\"[^a-zA-Z?.!,¿]+\", \" \", w)\n",
    "    w = w.rstrip().strip()\n",
    "    # adding a start and an end token to the sentence\n",
    "    # so that the model know when to start and stop predicting.\n",
    "    w = '<start> ' + w + ' <end>'\n",
    "    return w\n",
    "\n",
    "\n",
    "df['reference'] = df['reference'].apply(lambda w: preprocess_sentence(w))\n",
    "df['translation'] = df['translation'].apply(lambda w: preprocess_sentence(w))\n",
    "df.head(10)"
   ]
  },
  {
   "cell_type": "markdown",
   "source": [
    "## Create custom vocabulary"
   ],
   "metadata": {
    "collapsed": false
   },
   "id": "56fe871e0900e5c2"
  },
  {
   "cell_type": "code",
   "execution_count": 4,
   "id": "915404b7fe590d3e",
   "metadata": {
    "ExecuteTime": {
     "end_time": "2023-10-25T22:09:50.141858600Z",
     "start_time": "2023-10-25T22:09:45.515632700Z"
    }
   },
   "outputs": [],
   "source": [
    "# This class creates a word -> index mapping (e.g,. \"dad\" -> 5) and vice-versa \n",
    "# (e.g., 5 -> \"dad\") for each language,\n",
    "class LanguageIndex():\n",
    "    def __init__(self, lang: list):\n",
    "        \"\"\" lang are the list of phrases from each language \"\"\"\n",
    "        self.lang = lang\n",
    "        self.word2idx = {}\n",
    "        self.idx2word = {}\n",
    "        self.vocab = set()\n",
    "        self.create_index()\n",
    "\n",
    "    def create_index(self):\n",
    "        \"\"\" create word2idx, idx2word and vocab \"\"\"\n",
    "        for phrase in self.lang:\n",
    "            # update with individual tokens\n",
    "            self.vocab.update(phrase.split(' '))\n",
    "        # sort the vocab\n",
    "        self.vocab = sorted(self.vocab)\n",
    "        # add a padding token with index 0\n",
    "        self.word2idx['<pad>'] = 0\n",
    "        # word to index mapping\n",
    "        for index, word in enumerate(self.vocab):\n",
    "            self.word2idx[word] = index + 1 # +1 because of pad token\n",
    "        # index to word mapping\n",
    "        for word, index in self.word2idx.items():\n",
    "            self.idx2word[index] = word"
   ]
  },
  {
   "cell_type": "code",
   "execution_count": null,
   "outputs": [],
   "source": [
    "# index language using the class above\n",
    "inp_lang = LanguageIndex(df['reference'].values.tolist())\n",
    "targ_lang = LanguageIndex(df['translation'].values.tolist())"
   ],
   "metadata": {
    "collapsed": false
   },
   "id": "6cdcb0a6163a9e2c"
  },
  {
   "cell_type": "code",
   "execution_count": null,
   "outputs": [],
   "source": [
    "# Vectorize the input and target languages\n",
    "input_tensor = [[inp_lang.word2idx[s] for s in reference.split(' ')]  for reference in df['reference'].values.tolist()]\n",
    "target_tensor = [[targ_lang.word2idx[s] for s in translation.split(' ')]  for translation in df['translation'].values.tolist()]"
   ],
   "metadata": {
    "collapsed": false
   },
   "id": "83a1583d9c212735"
  },
  {
   "cell_type": "code",
   "execution_count": 5,
   "id": "9db049b9268a7a61",
   "metadata": {
    "ExecuteTime": {
     "end_time": "2023-10-25T22:09:50.197034500Z",
     "start_time": "2023-10-25T22:09:50.143852300Z"
    }
   },
   "outputs": [],
   "source": [
    "def max_length(tensor: list) -> int:\n",
    "    \"\"\"\n",
    "    calculate the max_length of input and output tensor\n",
    "    :param tensor: input tensor\n",
    "    :return: max length\n",
    "    \"\"\"\n",
    "    return max(len(t) for t in tensor)\n",
    " \n",
    "\n",
    "def pad_sequences(x: list, max_len: int) -> list:\n",
    "    \"\"\"\n",
    "    add padding\n",
    "    :param x: token's sentence\n",
    "    :param max_len: max length of words from column\n",
    "    :return: token's sentence with padding\n",
    "    \"\"\"\n",
    "    padded = np.zeros((max_len), dtype=np.int64)\n",
    "    if len(x) > max_len: padded[:] = x[:max_len]\n",
    "    else: padded[:len(x)] = x\n",
    "    return padded\n",
    "\n",
    "\n",
    "max_length_inp, max_length_tar = max_length(input_tensor), max_length(target_tensor)"
   ]
  },
  {
   "cell_type": "code",
   "execution_count": 6,
   "id": "57f42fd075028686",
   "metadata": {
    "ExecuteTime": {
     "end_time": "2023-10-25T22:09:52.444107200Z",
     "start_time": "2023-10-25T22:09:50.198032100Z"
    }
   },
   "outputs": [
    {
     "data": {
      "text/plain": [
       "577777"
      ]
     },
     "execution_count": 6,
     "metadata": {},
     "output_type": "execute_result"
    }
   ],
   "source": [
    "# inplace padding\n",
    "input_tensor = [pad_sequences(x, max_length_inp) for x in input_tensor]\n",
    "target_tensor = [pad_sequences(x, max_length_tar) for x in target_tensor]\n",
    "len(target_tensor)"
   ]
  },
  {
   "cell_type": "markdown",
   "source": [
    "## Create custom Dataset and load it to Dataloader"
   ],
   "metadata": {
    "collapsed": false
   },
   "id": "dfa68b06aded2fde"
  },
  {
   "cell_type": "code",
   "execution_count": 7,
   "id": "9005ae334fc9eaa9",
   "metadata": {
    "ExecuteTime": {
     "end_time": "2023-10-25T22:09:52.669772100Z",
     "start_time": "2023-10-25T22:09:52.441116500Z"
    }
   },
   "outputs": [
    {
     "data": {
      "text/plain": [
       "(462221, 462221, 115556, 115556)"
      ]
     },
     "execution_count": 7,
     "metadata": {},
     "output_type": "execute_result"
    }
   ],
   "source": [
    "# Creating training and validation sets using an 80-20 split\n",
    "input_tensor_train, input_tensor_val, target_tensor_train, target_tensor_val = train_test_split(\n",
    "    input_tensor,\n",
    "    target_tensor,\n",
    "    test_size=0.2,\n",
    "    random_state=SEED\n",
    ")\n",
    "\n",
    "# Show length\n",
    "len(input_tensor_train), len(target_tensor_train), len(input_tensor_val), len(target_tensor_val)"
   ]
  },
  {
   "cell_type": "code",
   "execution_count": 8,
   "id": "b516bcc692d0c904",
   "metadata": {
    "ExecuteTime": {
     "end_time": "2023-10-25T22:09:52.675621100Z",
     "start_time": "2023-10-25T22:09:52.672126600Z"
    }
   },
   "outputs": [],
   "source": [
    "from torch.utils.data import Dataset, DataLoader\n",
    "\n",
    "class MyData(Dataset):\n",
    "    def __init__(self, X: list, y: list):\n",
    "        # reference sentences\n",
    "        self.data = X\n",
    "        # translation sentences\n",
    "        self.target = y \n",
    "        self.length = [ np.sum(1 - np.equal(x, 0)) for x in X]\n",
    "\n",
    "    def __getitem__(self, index: int):\n",
    "        x = self.data[index]\n",
    "        y = self.target[index]\n",
    "        x_len = self.length[index]\n",
    "        return x, y, x_len\n",
    "\n",
    "    def __len__(self):\n",
    "        return len(self.data)"
   ]
  },
  {
   "cell_type": "markdown",
   "source": [
    "# Build the model"
   ],
   "metadata": {
    "collapsed": false
   },
   "id": "9289af3b00d6e5bf"
  },
  {
   "cell_type": "markdown",
   "source": [
    "Let's define the hyperparameters and other things we need for training our model."
   ],
   "metadata": {
    "collapsed": false
   },
   "id": "28cd1f19075eb900"
  },
  {
   "cell_type": "code",
   "execution_count": 9,
   "id": "b994941605b57d61",
   "metadata": {
    "ExecuteTime": {
     "end_time": "2023-10-25T22:09:55.446817700Z",
     "start_time": "2023-10-25T22:09:52.674625500Z"
    }
   },
   "outputs": [],
   "source": [
    "BUFFER_SIZE = len(input_tensor_train)\n",
    "BATCH_SIZE = 32\n",
    "N_BATCH = BUFFER_SIZE//BATCH_SIZE\n",
    "embedding_dim = 256\n",
    "units = 512\n",
    "vocab_inp_size = len(inp_lang.word2idx)\n",
    "vocab_tar_size = len(targ_lang.word2idx)\n",
    "\n",
    "train_dataset = MyData(input_tensor_train, target_tensor_train)\n",
    "val_dataset = MyData(input_tensor_val, target_tensor_val)\n",
    "\n",
    "dataset = DataLoader(train_dataset, batch_size = BATCH_SIZE,\n",
    "                     drop_last=True,\n",
    "                     shuffle=False)\n",
    "\n",
    "val_loader = DataLoader(val_dataset, batch_size = BATCH_SIZE,\n",
    "                        drop_last=True,\n",
    "                        shuffle=False)"
   ]
  },
  {
   "cell_type": "code",
   "execution_count": 10,
   "id": "a6dc53cc97c403d5",
   "metadata": {
    "ExecuteTime": {
     "end_time": "2023-10-25T22:09:55.455238800Z",
     "start_time": "2023-10-25T22:09:55.448810300Z"
    }
   },
   "outputs": [],
   "source": [
    "class Encoder(nn.Module):\n",
    "    def __init__(self, vocab_size: int, embedding_dim: int, enc_units: int, batch_sz: int):\n",
    "        super(Encoder, self).__init__()\n",
    "        self.batch_sz = batch_sz\n",
    "        self.enc_units = enc_units\n",
    "        self.vocab_size = vocab_size\n",
    "        self.embedding_dim = embedding_dim\n",
    "        self.embedding = nn.Embedding(self.vocab_size, self.embedding_dim)\n",
    "        self.gru = nn.GRU(self.embedding_dim, self.enc_units)\n",
    "\n",
    "    def forward(self, x: torch.Tensor, device: torch.device) -> (torch.Tensor, torch.Tensor):\n",
    "        # x: batch_size, max_length \n",
    "\n",
    "        # x: batch_size, max_length, embedding_dim\n",
    "        x = self.embedding(x)\n",
    "\n",
    "        self.hidden = self.initialize_hidden_state(device)\n",
    "\n",
    "        # output: max_length, batch_size, enc_units\n",
    "        # self.hidden: 1, batch_size, enc_units\n",
    "        output, self.hidden = self.gru(x, self.hidden) # gru returns hidden state of all timesteps as well as hidden state at last timestep\n",
    "\n",
    "        return output, self.hidden\n",
    "\n",
    "    def initialize_hidden_state(self, device: torch.device) -> torch.Tensor:\n",
    "        return torch.zeros((1, self.batch_sz, self.enc_units)).to(device)"
   ]
  },
  {
   "cell_type": "code",
   "execution_count": 11,
   "id": "e2c9df1ebb804c8e",
   "metadata": {
    "ExecuteTime": {
     "end_time": "2023-10-25T22:09:55.491784500Z",
     "start_time": "2023-10-25T22:09:55.489125900Z"
    }
   },
   "outputs": [],
   "source": [
    "class Decoder(nn.Module):\n",
    "    def __init__(self, vocab_size: int, embedding_dim: int, dec_units: int, enc_units: int, batch_sz: int):\n",
    "        super(Decoder, self).__init__()\n",
    "        self.batch_sz = batch_sz\n",
    "        self.dec_units = dec_units\n",
    "        self.enc_units = enc_units\n",
    "        self.vocab_size = vocab_size\n",
    "        self.embedding_dim = embedding_dim\n",
    "        self.embedding = nn.Embedding(self.vocab_size, self.embedding_dim)\n",
    "        self.gru = nn.GRU(self.embedding_dim + self.enc_units,\n",
    "                          self.dec_units,\n",
    "                          batch_first=True)\n",
    "        self.fc = nn.Linear(self.enc_units, self.vocab_size)\n",
    "\n",
    "        # used for attention\n",
    "        self.W1 = nn.Linear(self.enc_units, self.dec_units)\n",
    "        self.W2 = nn.Linear(self.enc_units, self.dec_units)\n",
    "        self.V = nn.Linear(self.enc_units, 1)\n",
    "\n",
    "    def forward(self, x: torch.Tensor, hidden: torch.Tensor, enc_output: torch.Tensor) -> (torch.Tensor, torch.Tensor, torch.Tensor):\n",
    "        # enc_output converted == (batch_size, max_length, hidden_size)\n",
    "        enc_output = enc_output.permute(1,0,2)\n",
    "\n",
    "        # hidden shape == (batch_size, hidden size) we convert it to (batch_size, 1, hidden size)\n",
    "        hidden_with_time_axis = hidden.permute(1, 0, 2)\n",
    "\n",
    "        # score: (batch_size, max_length, hidden_size) # Bahdanaus's\n",
    "        # It doesn't matter which FC we pick for each of the inputs\n",
    "        score = self.V(torch.tanh(self.W2(enc_output) + self.W1(hidden_with_time_axis)))\n",
    "\n",
    "        #attention_weights shape == (batch_size, max_length, 1)\n",
    "        attention_weights = nn.Softmax(dim=1)(score)\n",
    "\n",
    "        # context_vector shape after sum == (batch_size, hidden_size)\n",
    "        context_vector = torch.sum(attention_weights * enc_output, dim=1)\n",
    "\n",
    "        # pass the context vector into embedding layer\n",
    "        # x shape after passing through embedding == (batch_size, 1, embedding_dim)\n",
    "        x = self.embedding(x)\n",
    "\n",
    "        # concatenate the context vector and x\n",
    "        # x shape after concatenation == (batch_size, 1, embedding_dim + hidden_size)\n",
    "        x = torch.cat((context_vector.unsqueeze(1), x), -1)\n",
    "\n",
    "        # passing the concatenated vector to the GRU\n",
    "        # output: (batch_size, 1, hidden_size)\n",
    "        output, state = self.gru(x)\n",
    "\n",
    "        # output shape == (batch_size * 1, hidden_size)\n",
    "        output =  output.view(-1, output.size(2))\n",
    "\n",
    "        # output shape == (batch_size * 1, vocab)\n",
    "        x = self.fc(output)\n",
    "        return x, state, attention_weights\n",
    "\n",
    "    def initialize_hidden_state(self) -> torch.Tensor:\n",
    "        return torch.zeros((1, self.batch_sz, self.dec_units))"
   ]
  },
  {
   "cell_type": "markdown",
   "source": [
    "# Training model"
   ],
   "metadata": {
    "collapsed": false
   },
   "id": "277655a58561a306"
  },
  {
   "cell_type": "code",
   "execution_count": 12,
   "id": "c44fc3c8d6e5e1e2",
   "metadata": {
    "ExecuteTime": {
     "end_time": "2023-10-25T22:09:55.497357400Z",
     "start_time": "2023-10-25T22:09:55.492780300Z"
    }
   },
   "outputs": [],
   "source": [
    "criterion = torch.nn.CrossEntropyLoss()\n",
    "def loss_function(real: torch.Tensor, pred: torch.Tensor) -> torch.Tensor:\n",
    "    \"\"\"\n",
    "    Only consider non-zero inputs in the loss; mask needed\n",
    "    :param real: real values\n",
    "    :param pred: prediction values\n",
    "    :return: mean loss value\n",
    "    \"\"\"\n",
    "    mask = real.ge(1).type(torch.cuda.FloatTensor)\n",
    "    loss_ = criterion(pred, real) * mask\n",
    "    return torch.mean(loss_)"
   ]
  },
  {
   "cell_type": "code",
   "execution_count": 13,
   "id": "62cab143b53fb24e",
   "metadata": {
    "ExecuteTime": {
     "end_time": "2023-10-25T22:13:57.830721300Z",
     "start_time": "2023-10-25T22:13:57.030228700Z"
    }
   },
   "outputs": [],
   "source": [
    "# Device\n",
    "device = torch.device(\"cuda\" if torch.cuda.is_available() else \"cpu\")\n",
    "\n",
    "encoder = Encoder(vocab_inp_size, embedding_dim, units, BATCH_SIZE)\n",
    "decoder = Decoder(vocab_tar_size, embedding_dim, units, units, BATCH_SIZE)\n",
    "\n",
    "encoder.to(device)\n",
    "decoder.to(device)\n",
    "optimizer = optim.Adam(list(encoder.parameters()) + list(decoder.parameters()),\n",
    "                       lr=0.001)"
   ]
  },
  {
   "cell_type": "code",
   "execution_count": 14,
   "id": "fd908563a980679",
   "metadata": {
    "ExecuteTime": {
     "end_time": "2023-10-25T22:13:58.390008300Z",
     "start_time": "2023-10-25T22:13:58.388506800Z"
    }
   },
   "outputs": [],
   "source": [
    "def flip_batch(X: torch.Tensor, y: torch.Tensor) -> (torch.Tensor, torch.Tensor):\n",
    "    \"\"\"\n",
    "    transpose (batch x seq) to (seq x batch)\n",
    "    :param X: reference column\n",
    "    :param y: translation column\n",
    "    :return: transposed into (seq x batch)\n",
    "    \"\"\"\n",
    "    return X.transpose(0, 1), y"
   ]
  },
  {
   "cell_type": "code",
   "execution_count": null,
   "id": "74659ae1a9617140",
   "metadata": {
    "ExecuteTime": {
     "start_time": "2023-10-25T22:13:58.881417Z"
    },
    "is_executing": true
   },
   "outputs": [
    {
     "name": "stderr",
     "output_type": "stream",
     "text": [
      "Epoch 0: train:  92%|█████████▏| 13311/14444 [6:05:13<31:26,  1.67s/it, loss=tensor(0.1327, device='cuda:0', grad_fn=<DivBackward0>)]  "
     ]
    }
   ],
   "source": [
    "EPOCHS = 1\n",
    "\n",
    "encoder.batch_sz = BATCH_SIZE\n",
    "encoder.initialize_hidden_state(device)\n",
    "decoder.batch_sz = BATCH_SIZE\n",
    "decoder.initialize_hidden_state()\n",
    "\n",
    "\n",
    "for epoch in range(EPOCHS):\n",
    "    encoder.train()\n",
    "    decoder.train()\n",
    "    total_loss = 0\n",
    "\n",
    "    loop = tqdm(\n",
    "        enumerate(dataset, 1),\n",
    "        total=len(dataset),\n",
    "        desc=f\"Epoch {epoch}: train\",\n",
    "        leave=True,\n",
    "    )\n",
    "\n",
    "    for (batch, (inp, targ, inp_len)) in loop:\n",
    "        loss = 0\n",
    "        xs, ys = flip_batch(inp, targ)\n",
    "        enc_output, enc_hidden = encoder(xs.to(device), device)\n",
    "        dec_hidden = enc_hidden\n",
    "        dec_input = torch.tensor([[targ_lang.word2idx['<start>']]] * BATCH_SIZE)\n",
    "        for t in range(1, ys.size(1)):\n",
    "            predictions, dec_hidden, _ = decoder(dec_input.to(device),\n",
    "                                                 dec_hidden.to(device),\n",
    "                                                 enc_output.to(device))\n",
    "\n",
    "            loss += loss_function(ys[:, t].long().to(device), predictions.to(device))\n",
    "            dec_input = ys[:, t].unsqueeze(1)\n",
    "\n",
    "        batch_loss = (loss / int(ys.size(1)))\n",
    "        total_loss += batch_loss\n",
    "        optimizer.zero_grad()\n",
    "        loss.backward()\n",
    "        optimizer.step()\n",
    "        \n",
    "        if batch % 1000 == 0:\n",
    "            torch.save(encoder.state_dict(), PATH_OUT + f\"encoder/model-{batch}.pt\")\n",
    "            torch.save(decoder.state_dict(), PATH_OUT + f\"decoder/model-{batch}.pt\")\n",
    "\n",
    "        loop.set_postfix({\"loss\": batch_loss})  "
   ]
  },
  {
   "cell_type": "markdown",
   "source": [
    "# Save models"
   ],
   "metadata": {
    "collapsed": false
   },
   "id": "e91a8b1749e2da94"
  },
  {
   "cell_type": "code",
   "execution_count": null,
   "id": "5f505a77",
   "metadata": {},
   "outputs": [],
   "source": [
    "torch.save(encoder.state_dict(), PATH_OUT + \"encoder-final.pt\")\n",
    "torch.save(decoder.state_dict(), PATH_OUT + \"decoder-final.pt\")"
   ]
  },
  {
   "cell_type": "code",
   "execution_count": null,
   "id": "6539aac5",
   "metadata": {},
   "outputs": [],
   "source": []
  }
 ],
 "metadata": {
  "kernelspec": {
   "display_name": "Python 3 (ipykernel)",
   "language": "python",
   "name": "python3"
  },
  "language_info": {
   "codemirror_mode": {
    "name": "ipython",
    "version": 3
   },
   "file_extension": ".py",
   "mimetype": "text/x-python",
   "name": "python",
   "nbconvert_exporter": "python",
   "pygments_lexer": "ipython3",
   "version": "3.11.5"
  }
 },
 "nbformat": 4,
 "nbformat_minor": 5
}
